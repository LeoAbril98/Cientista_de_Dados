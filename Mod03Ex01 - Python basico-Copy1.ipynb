{
 "cells": [
  {
   "cell_type": "markdown",
   "metadata": {},
   "source": [
    "# Tarefa 01\n",
    "\n",
    "- Leia os enunciados com atenção\n",
    "- Saiba que pode haver mais de uma resposta correta\n",
    "- Insira novas células de código sempre que achar necessário\n",
    "- Em caso de dúvidas, procure os tutores\n",
    "- Divirta-se :)"
   ]
  },
  {
   "cell_type": "markdown",
   "metadata": {},
   "source": [
    "### 01 - Teste de gravidez\n",
    "Escreva uma célula com controle de fluxos que tem como premissa a existência das seguintes variáveis:\n",
    "\n",
    "- ```sexo``` como ```str``` indicando os valores '**M**' para masculino e '**F**' para feminino  \n",
    "- ```beta_hcg``` que indica a quantidade do beta-HCG no sangue em mUI/mL.\n",
    "\n",
    "A sua tarefa é escrever um código que imprima como resultado \"indivíduo do sexo masculino\" quando sexo = 'M', caso sexo = 'F', se o valor de beta-HCG for maior que 5, retorne \"Positivo\" indicando que a paciente está grávida, e retorne \"Negativo\" caso contrário.\n",
    "\n",
    "Não mexa nos valores da variável ```sexo``` nem em ```beta_hcg```, e escreva um código que funcione para quaisquer valores possíveis de ambos: ```sexo``` = '**M**' ou '**F**' e ```beta_hcg``` assumindo valores inteiros positivos."
   ]
  },
  {
   "cell_type": "code",
   "execution_count": 27,
   "metadata": {},
   "outputs": [
    {
     "name": "stdout",
     "output_type": "stream",
     "text": [
      "indivíduo do sexo masculino\n"
     ]
    }
   ],
   "source": [
    "sexo = 'M'\n",
    "beta_hcg = 0\n",
    "\n",
    "# seu código vem abaixo desta linha\n",
    "\n",
    "sexo = sexo.upper()\n",
    "if sexo == \"M\":\n",
    "    print('indivíduo do sexo masculino')\n",
    "elif sexo == \"F\" and beta_hcg > 5:\n",
    "    print(\"Positivo\")\n",
    "else:\n",
    "    print(\"Negativo\")\n"
   ]
  },
  {
   "cell_type": "markdown",
   "metadata": {},
   "source": [
    "### 02 - Renomeando variáveis\n",
    "\n",
    "Vamos ver adiante que uma forma de renomear variáveis de um conjunto de dados é através de dicionários - o dicionário deve conter como chave o nome original, associando a cada chave um único valor (tipo *str*) que contenha o nome novo.\n",
    "\n",
    "A sua tarefa é escrever um dicionário que possa ser utilizado para traduzir as variáveis ```name``` (nome), ```age``` (idade) e ```income``` (renda). Ou seja, esse dicionário deve relacionar as chaves *name, age* e *income* às suas respectivas traduções."
   ]
  },
  {
   "cell_type": "code",
   "execution_count": 32,
   "metadata": {},
   "outputs": [
    {
     "data": {
      "text/plain": [
       "{'name': 'nome', 'age': 'idade', 'income': 'renda'}"
      ]
     },
     "execution_count": 32,
     "metadata": {},
     "output_type": "execute_result"
    }
   ],
   "source": [
    "dic_renomeacao = {'name': 'nome', 'age': 'idade', 'income': 'renda'}\n",
    "dic_renomeacao"
   ]
  },
  {
   "cell_type": "markdown",
   "metadata": {},
   "source": [
    "### 03 - É divisível?\n",
    "A sua tarefa é escrever um código que indique se um número ```N``` é divisível por um número P. Escreva um programa que faça essa verificação para quaisquer combinações de ```N``` e ```M``` e devolva uma mensagem indicativa no output."
   ]
  },
  {
   "cell_type": "code",
   "execution_count": 41,
   "metadata": {},
   "outputs": [
    {
     "name": "stdout",
     "output_type": "stream",
     "text": [
      "42 é divisível por 7.\n"
     ]
    }
   ],
   "source": [
    "N = 42\n",
    "M = 7\n",
    "\n",
    "#Seu código\n",
    "\n",
    "# Função para verificar se N é divisível por M\n",
    "def verifica_divisibilidade(N, M):\n",
    "    if N % M == 0:\n",
    "        return f\"{N} é divisível por {M}.\"\n",
    "    else:\n",
    "        return f\"{N} não é divisível por {M}.\"\n",
    "\n",
    "# Usando os valores dados\n",
    "N = 42\n",
    "M = 7\n",
    "resultado = verifica_divisibilidade(N, M)\n",
    "print(resultado)\n"
   ]
  },
  {
   "cell_type": "markdown",
   "metadata": {},
   "source": [
    "### 04 - Números primos\n",
    "> Um número **N** é primo se e somente se é divisível por 1, -1, por **N** e por -**N**.  \n",
    "\n",
    "Escreva um script que verifica se ```N``` é um número primo, verificando se ```N``` é divisível por todos os números de ```1``` a ```N-1```. Você vai precisar usar alguma ferramenta de *loop* que você aprendeu para isto. No final, devolva uma mensagem no output indicando se o número é primo ou não."
   ]
  },
  {
   "cell_type": "code",
   "execution_count": 43,
   "metadata": {},
   "outputs": [
    {
     "name": "stdout",
     "output_type": "stream",
     "text": [
      "47 é um número primo.\n"
     ]
    }
   ],
   "source": [
    "N = 47\n",
    "\n",
    "# seu código abaixo\n",
    "\n",
    "def verifica_primalidade(N):\n",
    "    # Caso especial para 1, que não é primo\n",
    "    if N == 1:\n",
    "        return f\"{N} não é um número primo.\"\n",
    "\n",
    "    # Loop para verificar divisibilidade por números de 2 até N-1\n",
    "    for i in range(2, N):\n",
    "        if N % i == 0:\n",
    "            return f\"{N} não é um número primo, pois é divisível por {i}.\"\n",
    "\n",
    "    # Se não foi encontrado nenhum divisor, então é primo\n",
    "    return f\"{N} é um número primo.\"\n",
    "\n",
    "# Exemplo de uso\n",
    "numero_N = 47\n",
    "resultado = verifica_primalidade(numero_N)\n",
    "print(resultado)\n"
   ]
  },
  {
   "cell_type": "markdown",
   "metadata": {},
   "source": [
    "### 05 - Desafio\n",
    "O algorítmo do exercício anterior não é o mais eficiente. O que você pode fazer para deixá-lo mais eficiente? Ou seja, executar menos comparações, portanto consumir menos tempo.\n",
    "1. Será que precisamos correr o loop até o final sempre?\n",
    "2. Será que precisamos mesmo verificar **todos** os números?\n",
    "3. Será que precisamos ir até N-1?\n",
    "\n",
    "Essas perguntas levam ao tipo de pensamento voltado a deixar um algoritmo mais eficiente. Veja se você consegue melhorar o seu."
   ]
  },
  {
   "cell_type": "code",
   "execution_count": 44,
   "metadata": {},
   "outputs": [
    {
     "name": "stdout",
     "output_type": "stream",
     "text": [
      "98 não é um número primo, pois é divisível por 2.\n"
     ]
    }
   ],
   "source": [
    "N = 98\n",
    "\n",
    "# seu código aqui\n",
    "\n",
    "import math\n",
    "\n",
    "def verifica_primalidade_otimizado(N):\n",
    "    # Caso especial para 1, que não é primo\n",
    "    if N == 1:\n",
    "        return f\"{N} não é um número primo.\"\n",
    "\n",
    "    # Caso especial para 2, que é primo\n",
    "    if N == 2:\n",
    "        return f\"{N} é um número primo.\"\n",
    "\n",
    "    # Se N for par (exceto 2), não é primo\n",
    "    if N % 2 == 0:\n",
    "        return f\"{N} não é um número primo, pois é divisível por 2.\"\n",
    "\n",
    "    # Loop para verificar divisibilidade por números ímpares até a raiz quadrada de N\n",
    "    limite = int(math.sqrt(N)) + 1\n",
    "    for i in range(3, limite, 2):\n",
    "        if N % i == 0:\n",
    "            return f\"{N} não é um número primo, pois é divisível por {i}.\"\n",
    "\n",
    "    # Se não foi encontrado nenhum divisor, então é primo\n",
    "    return f\"{N} é um número primo.\"\n",
    "\n",
    "# Exemplo de uso\n",
    "numero_N = 98\n",
    "resultado = verifica_primalidade_otimizado(numero_N)\n",
    "print(resultado)\n",
    "\n"
   ]
  },
  {
   "cell_type": "markdown",
   "metadata": {},
   "source": [
    "### 06 - Peso ideal 1\n",
    "O IMC (índice de massa corpórea) é um indicador de saúde mais bem aceito que o peso. Ele é calculado como:\n",
    "\n",
    "$$ IMC = \\dfrac{peso}{altura^2}$$\n",
    "\n",
    "Segundo a OMS, valores *normais* são entre 18.5 e 24.9.\n",
    "\n",
    "Sua tarefa é encontrar o ponto médio dessa faixa."
   ]
  },
  {
   "cell_type": "code",
   "execution_count": 46,
   "metadata": {},
   "outputs": [
    {
     "name": "stdout",
     "output_type": "stream",
     "text": [
      "O ponto médio da faixa normal do IMC é: 21.7\n"
     ]
    }
   ],
   "source": [
    "# Valores extremos da faixa normal do IMC\n",
    "valor_minimo_imc = 18.5\n",
    "valor_maximo_imc = 24.9\n",
    "\n",
    "# Calcula o ponto médio\n",
    "ponto_medio_imc = (valor_minimo_imc + valor_maximo_imc) / 2\n",
    "\n",
    "# Imprime o resultado\n",
    "print(f\"O ponto médio da faixa normal do IMC é: {ponto_medio_imc}\")\n"
   ]
  },
  {
   "cell_type": "markdown",
   "metadata": {},
   "source": [
    "### 07 - Peso ideal 2\n",
    "Recebendo um valor de altura, encontre o peso '*ideal*' dessa pessoa, que fornece o IMC encontrado acima"
   ]
  },
  {
   "cell_type": "code",
   "execution_count": 48,
   "metadata": {},
   "outputs": [
    {
     "name": "stdout",
     "output_type": "stream",
     "text": [
      "O peso 'ideal' para uma altura de 1.7 m é aproximadamente 62.71 kg.\n"
     ]
    }
   ],
   "source": [
    "altura = 1.70\n",
    "\n",
    "# Seu código\n",
    "\n",
    "# Ponto médio da faixa normal do IMC\n",
    "ponto_medio_imc = (18.5 + 24.9) / 2\n",
    "\n",
    "# Calcula o peso \"ideal\" usando a fórmula do IMC\n",
    "peso_ideal = ponto_medio_imc * altura**2\n",
    "\n",
    "# Imprime o resultado\n",
    "print(f\"O peso 'ideal' para uma altura de {altura} m é aproximadamente {peso_ideal:.2f} kg.\")\n"
   ]
  },
  {
   "cell_type": "markdown",
   "metadata": {},
   "source": [
    "### 08 - Peso ideal 3\n",
    "Dada uma lista contendo as alturas de pacientes, crie uma nova lista que contenha o peso '*ideal*' (que fornece o IMC calculado em **Peso ideal 1**) desses pacientes."
   ]
  },
  {
   "cell_type": "code",
   "execution_count": 50,
   "metadata": {},
   "outputs": [
    {
     "name": "stdout",
     "output_type": "stream",
     "text": [
      "Lista de pesos 'ideais': [82.51424999999999, 91.19425, 62.712999999999994, 59.07824999999999]\n"
     ]
    }
   ],
   "source": [
    "lista_alturas = [1.95, 2.05, 1.70, 1.65]\n",
    "\n",
    "lista_peso_ideal = []\n",
    "\n",
    "# seu código\n",
    "def calcular_peso_ideal(altura):\n",
    "    # Ponto médio da faixa normal do IMC\n",
    "    ponto_medio_imc = (18.5 + 24.9) / 2 \n",
    "    \n",
    "# Calcula o peso \"ideal\" usando a fórmula do IMC\n",
    "    peso_ideal = ponto_medio_imc * altura**2\n",
    "    \n",
    "    return peso_ideal\n",
    "\n",
    "# Lista de alturas dos pacientes\n",
    "lista_alturas = [1.95, 2.05, 1.70, 1.65]\n",
    "\n",
    "# Lista para armazenar os pesos \"ideais\"\n",
    "lista_peso_ideal = []\n",
    "\n",
    "# Calcula o peso \"ideal\" para cada altura na lista\n",
    "for altura in lista_alturas:\n",
    "    peso_ideal = calcular_peso_ideal(altura)\n",
    "    lista_peso_ideal.append(peso_ideal)\n",
    "\n",
    "# Imprime a lista de pesos \"ideais\"\n",
    "print(\"Lista de pesos 'ideais':\", lista_peso_ideal)"
   ]
  },
  {
   "cell_type": "markdown",
   "metadata": {},
   "source": [
    "### 09 - Peso ideal 4\n",
    "Dada uma lista de tuplas - cada elemento da lista é uma tupla contendo altura e peso de um paciente - crie uma nova lista com o IMC desses pacientes."
   ]
  },
  {
   "cell_type": "code",
   "execution_count": 51,
   "metadata": {},
   "outputs": [
    {
     "name": "stdout",
     "output_type": "stream",
     "text": [
      "Lista de IMC: [27.777777777777775, 27.548209366391188, 19.188070502453332]\n"
     ]
    }
   ],
   "source": [
    "altura_peso = [(1.80, 90), (1.65, 75), (1.91, 70)]\n",
    "\n",
    "imc = []\n",
    "\n",
    "# seu código\n",
    "\n",
    "# Função para calcular o IMC\n",
    "def calcular_imc(altura, peso):\n",
    "    return peso / altura**2\n",
    "\n",
    "# Calcula o IMC para cada par (altura, peso) na lista\n",
    "for altura, peso in altura_peso:\n",
    "    imc_atual = calcular_imc(altura, peso)\n",
    "    imc.append(imc_atual)\n",
    "\n",
    "# Imprime a lista de IMC\n",
    "print(\"Lista de IMC:\", imc)"
   ]
  },
  {
   "cell_type": "markdown",
   "metadata": {},
   "source": [
    "### 10 - Peso ideal 5\n",
    "Dada uma lista de **listas** - cada elemento da lista é uma **lista** contendo altura e peso de um paciente, adicione mais um elemento à lista de cada paciente contendo o IMC do paciente. Verifique também se é 'baixo', 'normal' ou 'alto' segundo os padrões da OMS em que normal é entre 18.5 e 24.9.\n",
    "\n",
    "Reflexão: por que no problema anterior temos que criar uma nova lista, e não podemos adicionar os dados de cada indivíduo à tupla?"
   ]
  },
  {
   "cell_type": "code",
   "execution_count": 53,
   "metadata": {},
   "outputs": [
    {
     "name": "stdout",
     "output_type": "stream",
     "text": [
      "Lista de listas com IMC e classificação:\n",
      "[1.8, 90, 27.777777777777775, 'alto']\n",
      "[1.65, 75, 27.548209366391188, 'alto']\n",
      "[1.91, 70, 19.188070502453332, 'normal']\n"
     ]
    }
   ],
   "source": [
    "altura_peso = [[1.80, 90], [1.65, 75], [1.91, 70]]\n",
    "\n",
    "# seu código\n",
    "\n",
    "# Função para calcular o IMC\n",
    "def calcular_imc(altura, peso):\n",
    "    return peso / altura**2\n",
    "\n",
    "# Itera sobre a lista de listas\n",
    "for paciente in altura_peso:\n",
    "    altura, peso = paciente[0], paciente[1]\n",
    "    \n",
    "    # Calcula o IMC\n",
    "    imc = calcular_imc(altura, peso)\n",
    "    \n",
    "    # Adiciona o IMC à lista do paciente\n",
    "    paciente.append(imc)\n",
    "    \n",
    "    # Verifica se o IMC é 'baixo', 'normal' ou 'alto'\n",
    "    if 18.5 <= imc <= 24.9:\n",
    "        classificacao = 'normal'\n",
    "    elif imc < 18.5:\n",
    "        classificacao = 'baixo'\n",
    "    else:\n",
    "        classificacao = 'alto'\n",
    "    \n",
    "    # Adiciona a classificação à lista do paciente\n",
    "    paciente.append(classificacao)\n",
    "\n",
    "# Imprime a lista de listas atualizada\n",
    "print(\"Lista de listas com IMC e classificação:\")\n",
    "for paciente in altura_peso:\n",
    "    print(paciente)"
   ]
  },
  {
   "cell_type": "code",
   "execution_count": null,
   "metadata": {},
   "outputs": [],
   "source": []
  }
 ],
 "metadata": {
  "kernelspec": {
   "display_name": "Python 3 (ipykernel)",
   "language": "python",
   "name": "python3"
  },
  "language_info": {
   "codemirror_mode": {
    "name": "ipython",
    "version": 3
   },
   "file_extension": ".py",
   "mimetype": "text/x-python",
   "name": "python",
   "nbconvert_exporter": "python",
   "pygments_lexer": "ipython3",
   "version": "3.11.5"
  }
 },
 "nbformat": 4,
 "nbformat_minor": 4
}
