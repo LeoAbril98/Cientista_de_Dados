{
 "cells": [
  {
   "cell_type": "markdown",
   "metadata": {},
   "source": [
    "# Tarefa 01\n",
    "\n",
    "- Leia os enunciados com atenção\n",
    "- Saiba que pode haver mais de uma resposta correta\n",
    "- Insira novas células de código sempre que achar necessário\n",
    "- Em caso de dúvidas, procure os tutores\n",
    "- Divirta-se :)\n",
    "\n",
    "#### 1)  crie uma série do pandas a partir de uma lista com os dados abaixo:\n",
    "\n",
    "Em um estudo sobre alteração na tempreatura global, A NASA disponibiliza dados de diferenças de de temperatura média da superfície terrestre relativos às médias de temperatura entre 1951 e 1980. Os dados originais podem ser vistos no site da NASA/GISS, e estão dispostos a cada década na tabela abaixo.\n",
    "\n",
    "|ano|anomalia termica|\n",
    "|:-:|:----:|\n",
    "| 1900 | -0.08 |\n",
    "| 1920 | -0.27 |\n",
    "| 1940 | 0.12 |\n",
    "| 1960 | -0.03 |\n",
    "| 1980 | 0.26 |\n",
    "| 2000 | 0.40 |\n",
    "| 2020 | 1.02 |\n",
    "\n",
    "Crie uma séries do Pandas a partir de uma lista com esses dados."
   ]
  },
  {
   "cell_type": "code",
   "execution_count": 4,
   "metadata": {},
   "outputs": [
    {
     "data": {
      "text/plain": [
       "[-0.08, -0.27, 0.12, -0.03, 0.26, 0.4, 1.02]"
      ]
     },
     "execution_count": 4,
     "metadata": {},
     "output_type": "execute_result"
    }
   ],
   "source": [
    "import pandas as pd\n",
    "import numpy as np\n",
    "\n",
    "anomaliaTermica = [-0.08,-0.27,0.12,-0.03,0.26,0.40,1.02]\n",
    "anomaliaTermica\n",
    "\n",
    "\n",
    "# Seu código aqui"
   ]
  },
  {
   "cell_type": "markdown",
   "metadata": {},
   "source": [
    "#### 2) Coloque os anos nos índices conforme a tabela."
   ]
  },
  {
   "cell_type": "code",
   "execution_count": 9,
   "metadata": {},
   "outputs": [
    {
     "data": {
      "text/plain": [
       "1900   -0.08\n",
       "1920   -0.27\n",
       "1940    0.12\n",
       "1960   -0.03\n",
       "1980    0.26\n",
       "2000    0.40\n",
       "2020    1.02\n",
       "dtype: float64"
      ]
     },
     "execution_count": 9,
     "metadata": {},
     "output_type": "execute_result"
    }
   ],
   "source": [
    "AnomaliaComAno = pd.Series([-0.08,-0.27,0.12,-0.03,0.26,0.40,1.02],\n",
    "                                 index=['1900', '1920', '1940', '1960', '1980', '2000','2020'])\n",
    "\n",
    "AnomaliaComAno\n",
    "\n",
    "\n",
    "\n",
    "# seu código aqui\n"
   ]
  },
  {
   "cell_type": "markdown",
   "metadata": {},
   "source": [
    "#### 3) A partir do dicionário abaixo, crie uma séries do Pandas:"
   ]
  },
  {
   "cell_type": "code",
   "execution_count": 11,
   "metadata": {},
   "outputs": [
    {
     "name": "stdout",
     "output_type": "stream",
     "text": [
      "1900   -0.08\n",
      "1920   -0.27\n",
      "1940    0.12\n",
      "1960   -0.03\n",
      "1980    0.26\n",
      "2000    0.40\n",
      "2020    1.02\n",
      "dtype: float64\n"
     ]
    }
   ],
   "source": [
    "dic_temperaturas = {1900: -.08, 1920: -.27, 1940: .12, 1960: -.03, 1980: .26, 2000: .40, 2020: 1.02}\n",
    "\n",
    "serie_temperaturas = pd.Series(dic_temperaturas)\n",
    "print(serie_temperaturas)\n"
   ]
  },
  {
   "cell_type": "markdown",
   "metadata": {},
   "source": [
    "#### 4) Transforme o ndarray abaixo em um dataframe. \n",
    "O numpy é capaz de gerar arrays n-dimensionais com números pseudo-aleatórios de acordo com uma variedade de distribuições, como no exemplo abaixo. Transforme esse nd-array em um DataFrame."
   ]
  },
  {
   "cell_type": "code",
   "execution_count": 14,
   "metadata": {},
   "outputs": [
    {
     "name": "stdout",
     "output_type": "stream",
     "text": [
      "       Coluna1     Coluna2     Coluna3\n",
      "0    92.335996   94.022124  105.897960\n",
      "1    96.374413  105.880396   90.219861\n",
      "2   112.132216   82.721713   97.301916\n",
      "3   110.656822  106.948384  100.130281\n",
      "4   109.351371   94.079020   79.430108\n",
      "5    88.211873   95.644052  117.079842\n",
      "6    97.005016  104.586896   88.411814\n",
      "7   107.622899  105.853639  103.302112\n",
      "8    95.604058   89.702244   99.778372\n",
      "9   114.570524  114.489076   95.822672\n",
      "10  100.571937  116.510042   90.210773\n",
      "11  109.314958  111.859423  116.475446\n",
      "12  118.763883   92.595248   96.537957\n",
      "13   92.355800   85.518947   85.862539\n",
      "14  104.316800   87.283980   87.907202\n",
      "15  129.884353   85.475806  108.809209\n",
      "16  101.205537  100.083127  106.623270\n",
      "17  107.289760  115.443455  101.547236\n",
      "18   91.431336  100.792874   82.273720\n",
      "19  105.442033  102.337761  104.774024\n"
     ]
    }
   ],
   "source": [
    "arr = np.random.normal(100, 10, (20,3))\n",
    "\n",
    "df = pd.DataFrame(arr, columns=['Coluna1', 'Coluna2', 'Coluna3'])\n",
    "\n",
    "print(df)"
   ]
  },
  {
   "cell_type": "markdown",
   "metadata": {},
   "source": [
    "#### 5) Nomeie os índices das linhas com inteiros de 1 a 20, e as colunas com os nomes \"x1\", \"x2\", e \"x3\" respectivamente."
   ]
  },
  {
   "cell_type": "code",
   "execution_count": 15,
   "metadata": {},
   "outputs": [
    {
     "name": "stdout",
     "output_type": "stream",
     "text": [
      "            x1          x2          x3\n",
      "1    92.335996   94.022124  105.897960\n",
      "2    96.374413  105.880396   90.219861\n",
      "3   112.132216   82.721713   97.301916\n",
      "4   110.656822  106.948384  100.130281\n",
      "5   109.351371   94.079020   79.430108\n",
      "6    88.211873   95.644052  117.079842\n",
      "7    97.005016  104.586896   88.411814\n",
      "8   107.622899  105.853639  103.302112\n",
      "9    95.604058   89.702244   99.778372\n",
      "10  114.570524  114.489076   95.822672\n",
      "11  100.571937  116.510042   90.210773\n",
      "12  109.314958  111.859423  116.475446\n",
      "13  118.763883   92.595248   96.537957\n",
      "14   92.355800   85.518947   85.862539\n",
      "15  104.316800   87.283980   87.907202\n",
      "16  129.884353   85.475806  108.809209\n",
      "17  101.205537  100.083127  106.623270\n",
      "18  107.289760  115.443455  101.547236\n",
      "19   91.431336  100.792874   82.273720\n",
      "20  105.442033  102.337761  104.774024\n"
     ]
    }
   ],
   "source": [
    "# Criar um DataFrame a partir do ndarray com índices e colunas nomeados\n",
    "df = pd.DataFrame(arr, index=range(1, 21), columns=['x1', 'x2', 'x3'])\n",
    "\n",
    "# Exibir o DataFrame\n",
    "print(df)\n"
   ]
  },
  {
   "cell_type": "markdown",
   "metadata": {},
   "source": [
    "#### 6) No DataFrame do exercício 5, crie uma nova coluna como sendo a média das três colunas, e dê a ela o nome de \"media\" (não recomendo colocar acentos em nomes de variáveis)."
   ]
  },
  {
   "cell_type": "code",
   "execution_count": 16,
   "metadata": {},
   "outputs": [
    {
     "name": "stdout",
     "output_type": "stream",
     "text": [
      "            x1          x2          x3       media\n",
      "1    92.335996   94.022124  105.897960   97.418693\n",
      "2    96.374413  105.880396   90.219861   97.491556\n",
      "3   112.132216   82.721713   97.301916   97.385282\n",
      "4   110.656822  106.948384  100.130281  105.911829\n",
      "5   109.351371   94.079020   79.430108   94.286833\n",
      "6    88.211873   95.644052  117.079842  100.311923\n",
      "7    97.005016  104.586896   88.411814   96.667909\n",
      "8   107.622899  105.853639  103.302112  105.592883\n",
      "9    95.604058   89.702244   99.778372   95.028225\n",
      "10  114.570524  114.489076   95.822672  108.294091\n",
      "11  100.571937  116.510042   90.210773  102.430917\n",
      "12  109.314958  111.859423  116.475446  112.549942\n",
      "13  118.763883   92.595248   96.537957  102.632363\n",
      "14   92.355800   85.518947   85.862539   87.912429\n",
      "15  104.316800   87.283980   87.907202   93.169327\n",
      "16  129.884353   85.475806  108.809209  108.056456\n",
      "17  101.205537  100.083127  106.623270  102.637311\n",
      "18  107.289760  115.443455  101.547236  108.093484\n",
      "19   91.431336  100.792874   82.273720   91.499310\n",
      "20  105.442033  102.337761  104.774024  104.184606\n"
     ]
    }
   ],
   "source": [
    "# seu código aqui\n",
    "\n",
    "df = pd.DataFrame(arr, index=range(1, 21), columns=['x1', 'x2', 'x3'])\n",
    "\n",
    "df['media'] = df.mean(axis=1)\n",
    "\n",
    "print(df)"
   ]
  },
  {
   "cell_type": "markdown",
   "metadata": {},
   "source": [
    "#### 7) No DataFrame do exercício 6, crie uma nova coluna chamada \"log_med\", contendo o logaritmo natural da média calculada no exercício 6 <br>"
   ]
  },
  {
   "cell_type": "code",
   "execution_count": 17,
   "metadata": {},
   "outputs": [
    {
     "name": "stdout",
     "output_type": "stream",
     "text": [
      "            x1          x2          x3       media   log_med\n",
      "1    92.335996   94.022124  105.897960   97.418693  4.579018\n",
      "2    96.374413  105.880396   90.219861   97.491556  4.579766\n",
      "3   112.132216   82.721713   97.301916   97.385282  4.578675\n",
      "4   110.656822  106.948384  100.130281  105.911829  4.662607\n",
      "5   109.351371   94.079020   79.430108   94.286833  4.546342\n",
      "6    88.211873   95.644052  117.079842  100.311923  4.608285\n",
      "7    97.005016  104.586896   88.411814   96.667909  4.571281\n",
      "8   107.622899  105.853639  103.302112  105.592883  4.659591\n",
      "9    95.604058   89.702244   99.778372   95.028225  4.554174\n",
      "10  114.570524  114.489076   95.822672  108.294091  4.684851\n",
      "11  100.571937  116.510042   90.210773  102.430917  4.629189\n",
      "12  109.314958  111.859423  116.475446  112.549942  4.723397\n",
      "13  118.763883   92.595248   96.537957  102.632363  4.631153\n",
      "14   92.355800   85.518947   85.862539   87.912429  4.476341\n",
      "15  104.316800   87.283980   87.907202   93.169327  4.534419\n",
      "16  129.884353   85.475806  108.809209  108.056456  4.682654\n",
      "17  101.205537  100.083127  106.623270  102.637311  4.631202\n",
      "18  107.289760  115.443455  101.547236  108.093484  4.682996\n",
      "19   91.431336  100.792874   82.273720   91.499310  4.516331\n",
      "20  105.442033  102.337761  104.774024  104.184606  4.646164\n"
     ]
    }
   ],
   "source": [
    "\n",
    "\n",
    "df = pd.DataFrame(arr, index=range(1, 21), columns=['x1', 'x2', 'x3'])\n",
    "\n",
    "df['media'] = df.mean(axis=1)\n",
    "\n",
    "df['log_med'] = np.log(df['media'])\n",
    "\n",
    "print(df)"
   ]
  },
  {
   "cell_type": "code",
   "execution_count": null,
   "metadata": {},
   "outputs": [],
   "source": []
  }
 ],
 "metadata": {
  "kernelspec": {
   "display_name": "Python 3 (ipykernel)",
   "language": "python",
   "name": "python3"
  },
  "language_info": {
   "codemirror_mode": {
    "name": "ipython",
    "version": 3
   },
   "file_extension": ".py",
   "mimetype": "text/x-python",
   "name": "python",
   "nbconvert_exporter": "python",
   "pygments_lexer": "ipython3",
   "version": "3.11.5"
  }
 },
 "nbformat": 4,
 "nbformat_minor": 4
}
